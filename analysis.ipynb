{
 "cells": [
  {
   "cell_type": "markdown",
   "metadata": {},
   "source": [
    "# Data Science experiment from https://www.kaggle.com/competitions/spaceship-titanic/overview"
   ]
  },
  {
   "cell_type": "markdown",
   "metadata": {},
   "source": [
    "# I do not want to rush for the best results on kaggle possible. In real life one could not predict which model is the best and i just want to study and excercise dataScience"
   ]
  },
  {
   "cell_type": "code",
   "execution_count": 1,
   "metadata": {},
   "outputs": [],
   "source": [
    "import pandas as pd\n",
    "import numpy as np\n",
    "from IPython.display import display, HTML\n",
    "import matplotlib.pyplot as plt\n",
    "import seaborn as sns\n",
    "\n",
    "train = pd.read_csv('train.csv')\n",
    "test = pd.read_csv('test.csv')\n",
    "\n",
    "data_train = train.copy()\n",
    "data_test = test.copy()"
   ]
  },
  {
   "cell_type": "markdown",
   "metadata": {},
   "source": [
    "## Copied from https://www.kaggle.com/competitions/spaceship-titanic/data\n",
    "\n",
    "PassengerId - A unique Id for each passenger. Each Id takes the form gggg_pp where gggg indicates a group the passenger is travelling with and pp is their number within the group. People in a group are often family members, but not always.  \n",
    "\n",
    "HomePlanet - The planet the passenger departed from, typically their planet of permanent residence. \n",
    "\n",
    "CryoSleep - Indicates whether the passenger elected to be put into suspended animation for the duration of the voyage. Passengers in cryosleep are confined to their cabins.  \n",
    "\n",
    "Cabin - The cabin number where the passenger is staying. Takes the form deck/num/side, where side can be either P for Port or S for Starboard.  \n",
    "\n",
    "Destination - The planet the passenger will be debarking to.  \n",
    "\n",
    "Age - The age of the passenger.  \n",
    "\n",
    "VIP - Whether the passenger has paid for special VIP service during the voyage.  \n",
    "\n",
    "RoomService, FoodCourt, ShoppingMall, Spa, VRDeck - Amount the passenger has billed at each of the Spaceship Titanic's many luxury amenities.  \n",
    "\n",
    "Name - The first and last names of the passenger.  \n",
    "\n",
    "Transported - Whether the passenger was transported to another dimension. This is the target, the column you are trying to predict."
   ]
  },
  {
   "cell_type": "code",
   "execution_count": 2,
   "metadata": {},
   "outputs": [],
   "source": [
    "def create_scrollable_table(df, table_id, title):\n",
    "    html = f'<h3>{title}</h3>'\n",
    "    html += f'<div id=\"{table_id}\" style=\"height:200px; overflow:auto;\">'\n",
    "    html += df.to_html()\n",
    "    html += '</div>'\n",
    "    return html"
   ]
  },
  {
   "cell_type": "code",
   "execution_count": 3,
   "metadata": {
    "scrolled": true
   },
   "outputs": [
    {
     "data": {
      "text/plain": [
       "Index(['PassengerId', 'HomePlanet', 'CryoSleep', 'Cabin', 'Destination', 'Age',\n",
       "       'VIP', 'RoomService', 'FoodCourt', 'ShoppingMall', 'Spa', 'VRDeck',\n",
       "       'Name', 'Transported'],\n",
       "      dtype='object')"
      ]
     },
     "execution_count": 3,
     "metadata": {},
     "output_type": "execute_result"
    }
   ],
   "source": [
    "data_train.columns"
   ]
  },
  {
   "cell_type": "code",
   "execution_count": 4,
   "metadata": {},
   "outputs": [
    {
     "name": "stdout",
     "output_type": "stream",
     "text": [
      "Index(['Age', 'RoomService', 'FoodCourt', 'ShoppingMall', 'Spa', 'VRDeck'], dtype='object')\n",
      "Index(['PassengerId', 'HomePlanet', 'CryoSleep', 'Cabin', 'Destination', 'VIP',\n",
      "       'Name', 'Transported'],\n",
      "      dtype='object')\n"
     ]
    }
   ],
   "source": [
    "numerical_features = data_train.copy().select_dtypes(include=[np.number])\n",
    "categorical_features = data_train.copy().select_dtypes(include=[object, bool])\n",
    "\n",
    "print(numerical_features.columns)\n",
    "print(categorical_features.columns)"
   ]
  },
  {
   "cell_type": "code",
   "execution_count": 5,
   "metadata": {
    "scrolled": true
   },
   "outputs": [
    {
     "data": {
      "text/html": [
       "<h3>Summary statistics for categorical features</h3><div id=\"categorical_features\" style=\"height:200px; overflow:auto;\"><table border=\"1\" class=\"dataframe\">\n",
       "  <thead>\n",
       "    <tr style=\"text-align: right;\">\n",
       "      <th></th>\n",
       "      <th>count</th>\n",
       "      <th>unique</th>\n",
       "      <th>top</th>\n",
       "      <th>freq</th>\n",
       "    </tr>\n",
       "  </thead>\n",
       "  <tbody>\n",
       "    <tr>\n",
       "      <th>PassengerId</th>\n",
       "      <td>8693</td>\n",
       "      <td>8693</td>\n",
       "      <td>6489_01</td>\n",
       "      <td>1</td>\n",
       "    </tr>\n",
       "    <tr>\n",
       "      <th>HomePlanet</th>\n",
       "      <td>8492</td>\n",
       "      <td>3</td>\n",
       "      <td>Earth</td>\n",
       "      <td>4602</td>\n",
       "    </tr>\n",
       "    <tr>\n",
       "      <th>CryoSleep</th>\n",
       "      <td>8476</td>\n",
       "      <td>2</td>\n",
       "      <td>False</td>\n",
       "      <td>5439</td>\n",
       "    </tr>\n",
       "    <tr>\n",
       "      <th>Cabin</th>\n",
       "      <td>8494</td>\n",
       "      <td>6560</td>\n",
       "      <td>G/734/S</td>\n",
       "      <td>8</td>\n",
       "    </tr>\n",
       "    <tr>\n",
       "      <th>Destination</th>\n",
       "      <td>8511</td>\n",
       "      <td>3</td>\n",
       "      <td>TRAPPIST-1e</td>\n",
       "      <td>5915</td>\n",
       "    </tr>\n",
       "    <tr>\n",
       "      <th>VIP</th>\n",
       "      <td>8490</td>\n",
       "      <td>2</td>\n",
       "      <td>False</td>\n",
       "      <td>8291</td>\n",
       "    </tr>\n",
       "    <tr>\n",
       "      <th>Name</th>\n",
       "      <td>8493</td>\n",
       "      <td>8473</td>\n",
       "      <td>Loree Wolfernan</td>\n",
       "      <td>2</td>\n",
       "    </tr>\n",
       "    <tr>\n",
       "      <th>Transported</th>\n",
       "      <td>8693</td>\n",
       "      <td>2</td>\n",
       "      <td>True</td>\n",
       "      <td>4378</td>\n",
       "    </tr>\n",
       "  </tbody>\n",
       "</table></div>"
      ],
      "text/plain": [
       "<IPython.core.display.HTML object>"
      ]
     },
     "metadata": {},
     "output_type": "display_data"
    }
   ],
   "source": [
    "cat_summary_stats = categorical_features.describe().T\n",
    "html_categorical = create_scrollable_table(cat_summary_stats, 'categorical_features', 'Summary statistics for categorical features')\n",
    "\n",
    "display(HTML(html_categorical ))"
   ]
  },
  {
   "cell_type": "code",
   "execution_count": 6,
   "metadata": {
    "scrolled": true
   },
   "outputs": [
    {
     "data": {
      "text/html": [
       "<h3>Summary statistics for numerical features</h3><div id=\"numerical_features\" style=\"height:200px; overflow:auto;\"><table border=\"1\" class=\"dataframe\">\n",
       "  <thead>\n",
       "    <tr style=\"text-align: right;\">\n",
       "      <th></th>\n",
       "      <th>count</th>\n",
       "      <th>mean</th>\n",
       "      <th>std</th>\n",
       "      <th>min</th>\n",
       "      <th>25%</th>\n",
       "      <th>50%</th>\n",
       "      <th>75%</th>\n",
       "      <th>max</th>\n",
       "    </tr>\n",
       "  </thead>\n",
       "  <tbody>\n",
       "    <tr>\n",
       "      <th>Age</th>\n",
       "      <td>8514.0</td>\n",
       "      <td>28.827930</td>\n",
       "      <td>14.489021</td>\n",
       "      <td>0.0</td>\n",
       "      <td>19.0</td>\n",
       "      <td>27.0</td>\n",
       "      <td>38.0</td>\n",
       "      <td>79.0</td>\n",
       "    </tr>\n",
       "    <tr>\n",
       "      <th>RoomService</th>\n",
       "      <td>8512.0</td>\n",
       "      <td>224.687617</td>\n",
       "      <td>666.717663</td>\n",
       "      <td>0.0</td>\n",
       "      <td>0.0</td>\n",
       "      <td>0.0</td>\n",
       "      <td>47.0</td>\n",
       "      <td>14327.0</td>\n",
       "    </tr>\n",
       "    <tr>\n",
       "      <th>FoodCourt</th>\n",
       "      <td>8510.0</td>\n",
       "      <td>458.077203</td>\n",
       "      <td>1611.489240</td>\n",
       "      <td>0.0</td>\n",
       "      <td>0.0</td>\n",
       "      <td>0.0</td>\n",
       "      <td>76.0</td>\n",
       "      <td>29813.0</td>\n",
       "    </tr>\n",
       "    <tr>\n",
       "      <th>ShoppingMall</th>\n",
       "      <td>8485.0</td>\n",
       "      <td>173.729169</td>\n",
       "      <td>604.696458</td>\n",
       "      <td>0.0</td>\n",
       "      <td>0.0</td>\n",
       "      <td>0.0</td>\n",
       "      <td>27.0</td>\n",
       "      <td>23492.0</td>\n",
       "    </tr>\n",
       "    <tr>\n",
       "      <th>Spa</th>\n",
       "      <td>8510.0</td>\n",
       "      <td>311.138778</td>\n",
       "      <td>1136.705535</td>\n",
       "      <td>0.0</td>\n",
       "      <td>0.0</td>\n",
       "      <td>0.0</td>\n",
       "      <td>59.0</td>\n",
       "      <td>22408.0</td>\n",
       "    </tr>\n",
       "    <tr>\n",
       "      <th>VRDeck</th>\n",
       "      <td>8505.0</td>\n",
       "      <td>304.854791</td>\n",
       "      <td>1145.717189</td>\n",
       "      <td>0.0</td>\n",
       "      <td>0.0</td>\n",
       "      <td>0.0</td>\n",
       "      <td>46.0</td>\n",
       "      <td>24133.0</td>\n",
       "    </tr>\n",
       "  </tbody>\n",
       "</table></div>"
      ],
      "text/plain": [
       "<IPython.core.display.HTML object>"
      ]
     },
     "metadata": {},
     "output_type": "display_data"
    }
   ],
   "source": [
    "num_summary_stats = numerical_features.describe().T\n",
    "html_numerical = create_scrollable_table(num_summary_stats, 'numerical_features', 'Summary statistics for numerical features')\n",
    "\n",
    "display(HTML(html_numerical ))"
   ]
  },
  {
   "cell_type": "code",
   "execution_count": 7,
   "metadata": {},
   "outputs": [
    {
     "name": "stdout",
     "output_type": "stream",
     "text": [
      "NUMBER OF OBS:  8693\n",
      "PassengerId       0\n",
      "HomePlanet      201\n",
      "CryoSleep       217\n",
      "Cabin           199\n",
      "Destination     182\n",
      "Age             179\n",
      "VIP             203\n",
      "RoomService     181\n",
      "FoodCourt       183\n",
      "ShoppingMall    208\n",
      "Spa             183\n",
      "VRDeck          188\n",
      "Name            200\n",
      "Transported       0\n",
      "dtype: int64\n"
     ]
    }
   ],
   "source": [
    "null_values = data_train.isnull().sum()\n",
    "print(\"NUMBER OF OBS: \", len(data_train))\n",
    "print(null_values)"
   ]
  },
  {
   "cell_type": "code",
   "execution_count": 8,
   "metadata": {},
   "outputs": [
    {
     "name": "stdout",
     "output_type": "stream",
     "text": [
      "NUMBER OF OBS:  4277\n",
      "PassengerId       0\n",
      "HomePlanet       87\n",
      "CryoSleep        93\n",
      "Cabin           100\n",
      "Destination      92\n",
      "Age              91\n",
      "VIP              93\n",
      "RoomService      82\n",
      "FoodCourt       106\n",
      "ShoppingMall     98\n",
      "Spa             101\n",
      "VRDeck           80\n",
      "Name             94\n",
      "dtype: int64\n"
     ]
    }
   ],
   "source": [
    "null_values = data_test.isnull().sum()\n",
    "print(\"NUMBER OF OBS: \", len(data_test))\n",
    "print(null_values)"
   ]
  },
  {
   "cell_type": "markdown",
   "metadata": {},
   "source": [
    "### Is the lack of data present in the same rows or they are present 'randomly'?"
   ]
  },
  {
   "cell_type": "code",
   "execution_count": 9,
   "metadata": {},
   "outputs": [],
   "source": [
    "copy = data_train.copy()\n",
    "copy['nullCount'] = copy.isnull().sum(axis=1)\n",
    "copy.sort_values(by=['nullCount'], ascending=False, inplace=True)"
   ]
  },
  {
   "cell_type": "code",
   "execution_count": 10,
   "metadata": {
    "scrolled": false
   },
   "outputs": [
    {
     "data": {
      "text/html": [
       "<div>\n",
       "<style scoped>\n",
       "    .dataframe tbody tr th:only-of-type {\n",
       "        vertical-align: middle;\n",
       "    }\n",
       "\n",
       "    .dataframe tbody tr th {\n",
       "        vertical-align: top;\n",
       "    }\n",
       "\n",
       "    .dataframe thead th {\n",
       "        text-align: right;\n",
       "    }\n",
       "</style>\n",
       "<table border=\"1\" class=\"dataframe\">\n",
       "  <thead>\n",
       "    <tr style=\"text-align: right;\">\n",
       "      <th></th>\n",
       "      <th>PassengerId</th>\n",
       "      <th>HomePlanet</th>\n",
       "      <th>CryoSleep</th>\n",
       "      <th>Cabin</th>\n",
       "      <th>Destination</th>\n",
       "      <th>Age</th>\n",
       "      <th>VIP</th>\n",
       "      <th>RoomService</th>\n",
       "      <th>FoodCourt</th>\n",
       "      <th>ShoppingMall</th>\n",
       "      <th>Spa</th>\n",
       "      <th>VRDeck</th>\n",
       "      <th>Name</th>\n",
       "      <th>Transported</th>\n",
       "      <th>nullCount</th>\n",
       "    </tr>\n",
       "  </thead>\n",
       "  <tbody>\n",
       "    <tr>\n",
       "      <th>3882</th>\n",
       "      <td>4167_01</td>\n",
       "      <td>Earth</td>\n",
       "      <td>False</td>\n",
       "      <td>NaN</td>\n",
       "      <td>PSO J318.5-22</td>\n",
       "      <td>NaN</td>\n",
       "      <td>NaN</td>\n",
       "      <td>0.0</td>\n",
       "      <td>440.0</td>\n",
       "      <td>0.0</td>\n",
       "      <td>0.0</td>\n",
       "      <td>334.0</td>\n",
       "      <td>Ninaha Deckerson</td>\n",
       "      <td>False</td>\n",
       "      <td>3</td>\n",
       "    </tr>\n",
       "    <tr>\n",
       "      <th>7211</th>\n",
       "      <td>7703_02</td>\n",
       "      <td>NaN</td>\n",
       "      <td>True</td>\n",
       "      <td>G/1251/S</td>\n",
       "      <td>TRAPPIST-1e</td>\n",
       "      <td>13.0</td>\n",
       "      <td>False</td>\n",
       "      <td>0.0</td>\n",
       "      <td>0.0</td>\n",
       "      <td>NaN</td>\n",
       "      <td>0.0</td>\n",
       "      <td>0.0</td>\n",
       "      <td>NaN</td>\n",
       "      <td>True</td>\n",
       "      <td>3</td>\n",
       "    </tr>\n",
       "    <tr>\n",
       "      <th>2639</th>\n",
       "      <td>2822_02</td>\n",
       "      <td>Earth</td>\n",
       "      <td>NaN</td>\n",
       "      <td>G/450/S</td>\n",
       "      <td>TRAPPIST-1e</td>\n",
       "      <td>5.0</td>\n",
       "      <td>NaN</td>\n",
       "      <td>0.0</td>\n",
       "      <td>0.0</td>\n",
       "      <td>0.0</td>\n",
       "      <td>0.0</td>\n",
       "      <td>NaN</td>\n",
       "      <td>Salley Harverez</td>\n",
       "      <td>False</td>\n",
       "      <td>3</td>\n",
       "    </tr>\n",
       "    <tr>\n",
       "      <th>4164</th>\n",
       "      <td>4446_05</td>\n",
       "      <td>Europa</td>\n",
       "      <td>NaN</td>\n",
       "      <td>B/175/S</td>\n",
       "      <td>TRAPPIST-1e</td>\n",
       "      <td>33.0</td>\n",
       "      <td>False</td>\n",
       "      <td>0.0</td>\n",
       "      <td>4017.0</td>\n",
       "      <td>NaN</td>\n",
       "      <td>NaN</td>\n",
       "      <td>2260.0</td>\n",
       "      <td>Phah Chocaters</td>\n",
       "      <td>True</td>\n",
       "      <td>3</td>\n",
       "    </tr>\n",
       "    <tr>\n",
       "      <th>7682</th>\n",
       "      <td>8202_03</td>\n",
       "      <td>NaN</td>\n",
       "      <td>True</td>\n",
       "      <td>C/306/S</td>\n",
       "      <td>TRAPPIST-1e</td>\n",
       "      <td>NaN</td>\n",
       "      <td>False</td>\n",
       "      <td>0.0</td>\n",
       "      <td>0.0</td>\n",
       "      <td>0.0</td>\n",
       "      <td>0.0</td>\n",
       "      <td>NaN</td>\n",
       "      <td>Charga Unkcatted</td>\n",
       "      <td>True</td>\n",
       "      <td>3</td>\n",
       "    </tr>\n",
       "  </tbody>\n",
       "</table>\n",
       "</div>"
      ],
      "text/plain": [
       "     PassengerId HomePlanet CryoSleep     Cabin    Destination   Age    VIP  \\\n",
       "3882     4167_01      Earth     False       NaN  PSO J318.5-22   NaN    NaN   \n",
       "7211     7703_02        NaN      True  G/1251/S    TRAPPIST-1e  13.0  False   \n",
       "2639     2822_02      Earth       NaN   G/450/S    TRAPPIST-1e   5.0    NaN   \n",
       "4164     4446_05     Europa       NaN   B/175/S    TRAPPIST-1e  33.0  False   \n",
       "7682     8202_03        NaN      True   C/306/S    TRAPPIST-1e   NaN  False   \n",
       "\n",
       "      RoomService  FoodCourt  ShoppingMall  Spa  VRDeck              Name  \\\n",
       "3882          0.0      440.0           0.0  0.0   334.0  Ninaha Deckerson   \n",
       "7211          0.0        0.0           NaN  0.0     0.0               NaN   \n",
       "2639          0.0        0.0           0.0  0.0     NaN   Salley Harverez   \n",
       "4164          0.0     4017.0           NaN  NaN  2260.0    Phah Chocaters   \n",
       "7682          0.0        0.0           0.0  0.0     NaN  Charga Unkcatted   \n",
       "\n",
       "      Transported  nullCount  \n",
       "3882        False          3  \n",
       "7211         True          3  \n",
       "2639        False          3  \n",
       "4164         True          3  \n",
       "7682         True          3  "
      ]
     },
     "execution_count": 10,
     "metadata": {},
     "output_type": "execute_result"
    }
   ],
   "source": [
    "copy.head()"
   ]
  },
  {
   "cell_type": "markdown",
   "metadata": {},
   "source": [
    "### At most 3 columns are null simultanously so there are no empty rows "
   ]
  },
  {
   "cell_type": "markdown",
   "metadata": {},
   "source": [
    "# Below i handle with categorical Cabin"
   ]
  },
  {
   "cell_type": "markdown",
   "metadata": {},
   "source": [
    "### At first i will dive into this variable because it has many unique values and drawing count plot would be absurd.   \n",
    "### As we can see from data description, from Cabin we can take information about deck and side"
   ]
  },
  {
   "cell_type": "code",
   "execution_count": 11,
   "metadata": {
    "scrolled": true
   },
   "outputs": [],
   "source": [
    "import math\n",
    "data_train['CabinDeck'] = data_train['Cabin'].apply(lambda x: (x or 'Unknown/Unknown/Unknown').split('/')[0] if type(x) is str else 'Unknown')\n",
    "data_train['CabinSide'] = data_train['Cabin'].apply(lambda x: (x or 'Unknown/Unknown/Unknown').split('/')[2] if type(x) is str else 'Unknown')\n",
    "data_train['CabinNum'] = data_train['Cabin'].apply(lambda x: int((x or 'Unknown/Unknown/Unknown').split('/')[1]) if type(x) is str else -1)\n",
    "\n",
    "# after the split Cabin is no more useful\n",
    "\n",
    "data_train.drop(columns='Cabin', inplace=True)\n",
    "\n",
    "# refresh numerical and categorical features\n",
    "numerical_features = data_train.copy().select_dtypes(include=[np.number])\n",
    "categorical_features = data_train.copy().select_dtypes(include=[object, bool]) "
   ]
  },
  {
   "cell_type": "markdown",
   "metadata": {},
   "source": [
    "### CabinNum may be useless but i will check whether the 'bigness' of the number influence on dependent variable"
   ]
  },
  {
   "cell_type": "code",
   "execution_count": 12,
   "metadata": {},
   "outputs": [],
   "source": [
    "copy = data_train.copy()[['Transported', 'CabinNum']]\n",
    "copy['q_2'] = pd.qcut(copy['CabinNum'], q=[0, 0.5, 1],\n",
    "                         labels=[\"lowest\", \"top\"])\n",
    "\n",
    "copy['q_4'] = pd.qcut(copy['CabinNum'], q=[0, 0.25, 0.5, 0.75, 1],\n",
    "                         labels=[\"q1\", \"q2\", \"q3\", \"q4\"])\n"
   ]
  },
  {
   "cell_type": "code",
   "execution_count": 13,
   "metadata": {
    "scrolled": true
   },
   "outputs": [
    {
     "name": "stdout",
     "output_type": "stream",
     "text": [
      "            CabinNum          q_4      \n",
      "q_2           lowest   top lowest   top\n",
      "Transported                            \n",
      "False           2081  2234   2081  2234\n",
      "True            2269  2109   2269  2109\n",
      "            CabinNum                     q_2                  \n",
      "q_4               q1    q2    q3    q4    q1    q2    q3    q4\n",
      "Transported                                                   \n",
      "False           1007  1074  1081  1153  1007  1074  1081  1153\n",
      "True            1167  1102  1089  1020  1167  1102  1089  1020\n"
     ]
    }
   ],
   "source": [
    "print(pd.pivot_table(copy, columns=['q_2'], index=['Transported'], aggfunc='count'))\n",
    "print(pd.pivot_table(copy, columns=['q_4'], index=['Transported'], aggfunc='count'))\n",
    "\n"
   ]
  },
  {
   "cell_type": "markdown",
   "metadata": {},
   "source": [
    "### The numbers seems to be equally distributed so the CabinNum variable is useless"
   ]
  },
  {
   "cell_type": "code",
   "execution_count": 14,
   "metadata": {},
   "outputs": [],
   "source": [
    "data_train.drop(columns=['CabinNum'], inplace=True)"
   ]
  },
  {
   "cell_type": "markdown",
   "metadata": {},
   "source": [
    "# Below i handle with categorical Name"
   ]
  },
  {
   "cell_type": "markdown",
   "metadata": {},
   "source": [
    "### Name is almost unique so it will be useless for making predictions"
   ]
  },
  {
   "cell_type": "code",
   "execution_count": 15,
   "metadata": {},
   "outputs": [],
   "source": [
    "data_train.drop(columns=['Name'], inplace=True)\n",
    "\n",
    "# refresh numerical and categorical features\n",
    "numerical_features = data_train.copy().select_dtypes(include=[np.number])\n",
    "categorical_features = data_train.copy().select_dtypes(include=[object, bool]) "
   ]
  },
  {
   "cell_type": "markdown",
   "metadata": {},
   "source": [
    "### Below i plot counts of other categorical variables"
   ]
  },
  {
   "cell_type": "code",
   "execution_count": 16,
   "metadata": {},
   "outputs": [
    {
     "data": {
      "text/plain": [
       "Index(['PassengerId', 'HomePlanet', 'CryoSleep', 'Destination', 'VIP',\n",
       "       'Transported', 'CabinDeck', 'CabinSide'],\n",
       "      dtype='object')"
      ]
     },
     "execution_count": 16,
     "metadata": {},
     "output_type": "execute_result"
    }
   ],
   "source": [
    "categorical_features.columns"
   ]
  },
  {
   "cell_type": "code",
   "execution_count": 17,
   "metadata": {
    "scrolled": true
   },
   "outputs": [
    {
     "data": {
      "image/png": "[encoded data removed]",
      "text/plain": [
       "<Figure size 432x288 with 1 Axes>"
      ]
     },
     "metadata": {
      "needs_background": "light"
     },
     "output_type": "display_data"
    },
    {
     "data": {
      "image/png": "[encoded data removed]",
      "text/plain": [
       "<Figure size 432x288 with 1 Axes>"
      ]
     },
     "metadata": {
      "needs_background": "light"
     },
     "output_type": "display_data"
    },
    {
     "data": {
      "image/png": "[encoded data removed]",
      "text/plain": [
       "<Figure size 432x288 with 1 Axes>"
      ]
     },
     "metadata": {
      "needs_background": "light"
     },
     "output_type": "display_data"
    },
    {
     "data": {
      "image/png": "[encoded data removed]",
      "text/plain": [
       "<Figure size 432x288 with 1 Axes>"
      ]
     },
     "metadata": {
      "needs_background": "light"
     },
     "output_type": "display_data"
    },
    {
     "data": {
      "image/png": "[encoded data removed]",
      "text/plain": [
       "<Figure size 432x288 with 1 Axes>"
      ]
     },
     "metadata": {
      "needs_background": "light"
     },
     "output_type": "display_data"
    },
    {
     "data": {
      "image/png": "[encoded data removed]",
      "text/plain": [
       "<Figure size 432x288 with 1 Axes>"
      ]
     },
     "metadata": {
      "needs_background": "light"
     },
     "output_type": "display_data"
    },
    {
     "data": {
      "image/png": "[encoded data removed]",
      "text/plain": [
       "<Figure size 432x288 with 1 Axes>"
      ]
     },
     "metadata": {
      "needs_background": "light"
     },
     "output_type": "display_data"
    }
   ],
   "source": [
    "for col in categorical_features.drop(columns=['PassengerId']).columns:\n",
    "    data_train[col].value_counts().plot(kind='bar', title=col)\n",
    "    plt.show()"
   ]
  },
  {
   "cell_type": "markdown",
   "metadata": {},
   "source": [
    "### Earlier the count table for null values was displayed. For such values we could assign the most frequent value or assign 'Unknown' value (dropping row with such missing values would not be good because test data also has missing values and these have to be handled either way). I decide to:\n",
    "##### Home planet: assign 'Unknown'  \n",
    "##### CryoSleep: assign 'Unknown'  \n",
    "##### destination: assign 'Unknown'  \n",
    "##### Vip: assign False to null values (as very few observations are Vips)"
   ]
  },
  {
   "cell_type": "code",
   "execution_count": 18,
   "metadata": {},
   "outputs": [],
   "source": [
    "data_train[['HomePlanet', 'CryoSleep', 'Destination', 'CabinDeck']] = data_train[['HomePlanet', 'CryoSleep', 'Destination', 'CabinDeck']].fillna('Unknown')\n",
    "data_train['VIP'].fillna(False, inplace=True)\n",
    "           \n",
    "# refresh numerical and categorical features\n",
    "numerical_features = data_train.copy().select_dtypes(include=[np.number])\n",
    "categorical_features = data_train.copy().select_dtypes(include=[object, bool]) "
   ]
  },
  {
   "cell_type": "markdown",
   "metadata": {},
   "source": [
    "# Below are histogram of numerical variable"
   ]
  },
  {
   "cell_type": "code",
   "execution_count": 19,
   "metadata": {},
   "outputs": [
    {
     "data": {
      "image/png": "[encoded data removed]",
      "text/plain": [
       "<Figure size 432x288 with 1 Axes>"
      ]
     },
     "metadata": {
      "needs_background": "light"
     },
     "output_type": "display_data"
    },
    {
     "data": {
      "image/png": "[encoded data removed]",
      "text/plain": [
       "<Figure size 432x288 with 1 Axes>"
      ]
     },
     "metadata": {
      "needs_background": "light"
     },
     "output_type": "display_data"
    },
    {
     "data": {
      "image/png": "[encoded data removed]",
      "text/plain": [
       "<Figure size 432x288 with 1 Axes>"
      ]
     },
     "metadata": {
      "needs_background": "light"
     },
     "output_type": "display_data"
    },
    {
     "data": {
      "image/png": "[encoded data removed]",
      "text/plain": [
       "<Figure size 432x288 with 1 Axes>"
      ]
     },
     "metadata": {
      "needs_background": "light"
     },
     "output_type": "display_data"
    },
    {
     "data": {
      "image/png": "[encoded data removed]",
      "text/plain": [
       "<Figure size 432x288 with 1 Axes>"
      ]
     },
     "metadata": {
      "needs_background": "light"
     },
     "output_type": "display_data"
    },
    {
     "data": {
      "image/png": "[encoded data removed]",
      "text/plain": [
       "<Figure size 432x288 with 1 Axes>"
      ]
     },
     "metadata": {
      "needs_background": "light"
     },
     "output_type": "display_data"
    }
   ],
   "source": [
    "for col in numerical_features.columns:\n",
    "    data_train[col].hist()\n",
    "    plt.title(col)\n",
    "    plt.show()"
   ]
  },
  {
   "cell_type": "code",
   "execution_count": 20,
   "metadata": {
    "scrolled": true
   },
   "outputs": [
    {
     "name": "stdout",
     "output_type": "stream",
     "text": [
      "Age 178\n",
      "RoomService 5577\n",
      "FoodCourt 5456\n",
      "ShoppingMall 5587\n",
      "Spa 5324\n",
      "VRDeck 5495\n"
     ]
    }
   ],
   "source": [
    "for col in numerical_features.columns:\n",
    "    print(col, len(data_train[data_train[col] == 0]))"
   ]
  },
  {
   "cell_type": "markdown",
   "metadata": {},
   "source": [
    "### There are many people who does not use at least one of the paid option. Instead of using this numerical columns maybe it would be more useful to transform into binomial  variable: 'does_he_paid_for_[option]' "
   ]
  },
  {
   "cell_type": "markdown",
   "metadata": {},
   "source": [
    "### If we also look at quantiles of numerical features, the scale is huge and most of the values are pretty small"
   ]
  },
  {
   "cell_type": "markdown",
   "metadata": {},
   "source": [
    "### For age i will fill missing values with mean (median is almost the same so there is a minor difference). I think the standarization can deal with the problem ( I do not think i want to detect and remove outliers)"
   ]
  },
  {
   "cell_type": "code",
   "execution_count": 21,
   "metadata": {},
   "outputs": [],
   "source": [
    "mean = data_train['Age'].mean()\n",
    "data_train['Age'].fillna(mean, inplace=True)\n",
    "data_train['Age'].replace(0, mean, inplace=True)\n",
    "\n",
    "# refresh numerical and categorical features\n",
    "numerical_features = data_train.copy().select_dtypes(include=[np.number])\n",
    "categorical_features = data_train.copy().select_dtypes(include=[object, bool]) "
   ]
  },
  {
   "cell_type": "markdown",
   "metadata": {},
   "source": [
    "### Fo other numerical i will replace missing values with median (which is i think every time equal 0)"
   ]
  },
  {
   "cell_type": "code",
   "execution_count": 22,
   "metadata": {},
   "outputs": [],
   "source": [
    "data_train[numerical_features.columns] = data_train[numerical_features.columns].fillna(data_train[numerical_features.columns].median())"
   ]
  },
  {
   "cell_type": "markdown",
   "metadata": {},
   "source": [
    "### Correlation between numerical variables"
   ]
  },
  {
   "cell_type": "code",
   "execution_count": 23,
   "metadata": {
    "scrolled": true
   },
   "outputs": [
    {
     "name": "stdout",
     "output_type": "stream",
     "text": [
      "                   Age  RoomService  FoodCourt  ShoppingMall       Spa  \\\n",
      "Age           1.000000     0.056972   0.122809      0.022280  0.115869   \n",
      "RoomService   0.056972     1.000000  -0.015889      0.054480  0.010080   \n",
      "FoodCourt     0.122809    -0.015889   1.000000     -0.014228  0.221891   \n",
      "ShoppingMall  0.022280     0.054480  -0.014228      1.000000  0.013879   \n",
      "Spa           0.115869     0.010080   0.221891      0.013879  1.000000   \n",
      "VRDeck        0.093471    -0.019581   0.227995     -0.007322  0.153821   \n",
      "\n",
      "                VRDeck  \n",
      "Age           0.093471  \n",
      "RoomService  -0.019581  \n",
      "FoodCourt     0.227995  \n",
      "ShoppingMall -0.007322  \n",
      "Spa           0.153821  \n",
      "VRDeck        1.000000  \n"
     ]
    }
   ],
   "source": [
    "c = numerical_features.corr()\n",
    "print(c)"
   ]
  },
  {
   "cell_type": "code",
   "execution_count": 24,
   "metadata": {
    "scrolled": false
   },
   "outputs": [
    {
     "data": {
      "text/plain": [
       "<AxesSubplot:>"
      ]
     },
     "execution_count": 24,
     "metadata": {},
     "output_type": "execute_result"
    },
    {
     "data": {
      "image/png": "[encoded data removed]",
      "text/plain": [
       "<Figure size 432x288 with 2 Axes>"
      ]
     },
     "metadata": {
      "needs_background": "light"
     },
     "output_type": "display_data"
    }
   ],
   "source": [
    "sns.heatmap(c)"
   ]
  },
  {
   "cell_type": "markdown",
   "metadata": {},
   "source": [
    "### there is no correlation between any of the numerical variables (so there will be no problem inputing all numerical variables to a potencial model)."
   ]
  },
  {
   "cell_type": "markdown",
   "metadata": {},
   "source": [
    "### Before building a model, can we say something about \"Transported\" by looking at dependencies between categorical variables and \"Transported\" column? Below are the pivot tables."
   ]
  },
  {
   "cell_type": "code",
   "execution_count": 25,
   "metadata": {
    "scrolled": true
   },
   "outputs": [
    {
     "name": "stdout",
     "output_type": "stream",
     "text": [
      "HomePlanet   Earth  Europa  Mars  Unknown\n",
      "Transported                              \n",
      "False         2651     727   839       98\n",
      "True          1951    1404   920      103\n",
      "CryoSleep    False  True  Unknown\n",
      "Transported                      \n",
      "False         3650   554      111\n",
      "True          1789  2483      106\n",
      "Destination  55 Cancri e  PSO J318.5-22  TRAPPIST-1e  Unknown\n",
      "Transported                                                  \n",
      "False                702            395         3128       90\n",
      "True                1098            401         2787       92\n",
      "VIP          False  True \n",
      "Transported              \n",
      "False         4192    123\n",
      "True          4302     76\n",
      "CabinDeck      A    B    C    D    E     F     G  T  Unknown\n",
      "Transported                                                 \n",
      "False        129  207  239  271  563  1565  1238  4       99\n",
      "True         127  572  508  207  313  1229  1321  1      100\n",
      "CabinSide       P     S  Unknown\n",
      "Transported                     \n",
      "False        2308  1908       99\n",
      "True         1898  2380      100\n"
     ]
    }
   ],
   "source": [
    "for col in categorical_features.drop(columns=['PassengerId', 'Transported']).columns:\n",
    "    print(pd.pivot_table(data_train, values='PassengerId', columns=col, index='Transported', aggfunc='count'))"
   ]
  },
  {
   "cell_type": "markdown",
   "metadata": {},
   "source": [
    "# Building and testing models."
   ]
  },
  {
   "cell_type": "markdown",
   "metadata": {},
   "source": [
    "### Before that lets standarize numerical and do one hot encoding"
   ]
  },
  {
   "cell_type": "code",
   "execution_count": 26,
   "metadata": {},
   "outputs": [],
   "source": [
    "from sklearn.preprocessing import MinMaxScaler\n",
    "\n",
    "data_train_s = data_train.copy()\n",
    "scaler = MinMaxScaler()\n",
    "\n",
    "data_train_s[numerical_features.columns] = scaler.fit_transform(data_train_s[numerical_features.columns])\n",
    "data_train_s.drop(columns=['PassengerId'], inplace=True)\n",
    "\n",
    "data_train_s_dum = pd.get_dummies(data_train_s)\n",
    "\n",
    "X = data_train_s_dum.drop(columns=['Transported'])\n",
    "y = data_train_s_dum['Transported']"
   ]
  },
  {
   "cell_type": "markdown",
   "metadata": {},
   "source": [
    "## Logistic regression"
   ]
  },
  {
   "cell_type": "code",
   "execution_count": 27,
   "metadata": {},
   "outputs": [],
   "source": [
    "from sklearn.model_selection import cross_val_score\n",
    "from sklearn.linear_model import LogisticRegression\n",
    "\n",
    "lr = LogisticRegression(max_iter=200)\n",
    "lr_scores = cross_val_score(lr, X, y, cv=5, scoring='accuracy')"
   ]
  },
  {
   "cell_type": "code",
   "execution_count": 28,
   "metadata": {
    "scrolled": true
   },
   "outputs": [
    {
     "data": {
      "text/plain": [
       "array([0.75560667, 0.76825762, 0.7573318 , 0.76927503, 0.77445339])"
      ]
     },
     "execution_count": 28,
     "metadata": {},
     "output_type": "execute_result"
    }
   ],
   "source": [
    "lr_scores"
   ]
  },
  {
   "cell_type": "markdown",
   "metadata": {},
   "source": [
    "## Random tree classifier"
   ]
  },
  {
   "cell_type": "code",
   "execution_count": 29,
   "metadata": {},
   "outputs": [],
   "source": [
    "from sklearn.tree import DecisionTreeClassifier\n",
    "\n",
    "rtc = DecisionTreeClassifier(random_state=17)\n",
    "rtc_scores = cross_val_score(rtc, X, y, cv=5, scoring='accuracy')"
   ]
  },
  {
   "cell_type": "code",
   "execution_count": 30,
   "metadata": {
    "scrolled": true
   },
   "outputs": [
    {
     "data": {
      "text/plain": [
       "array([0.7280046 , 0.7280046 , 0.75158137, 0.72957422, 0.72612198])"
      ]
     },
     "execution_count": 30,
     "metadata": {},
     "output_type": "execute_result"
    }
   ],
   "source": [
    "rtc_scores"
   ]
  },
  {
   "cell_type": "markdown",
   "metadata": {},
   "source": [
    "## Random forest classifier"
   ]
  },
  {
   "cell_type": "code",
   "execution_count": 31,
   "metadata": {},
   "outputs": [],
   "source": [
    "from sklearn.ensemble import RandomForestClassifier\n",
    "\n",
    "rfc = RandomForestClassifier(random_state=17)\n",
    "rfc_scores = cross_val_score(rfc, X, y, cv=5, scoring='accuracy')"
   ]
  },
  {
   "cell_type": "code",
   "execution_count": 32,
   "metadata": {
    "scrolled": true
   },
   "outputs": [
    {
     "data": {
      "text/plain": [
       "array([0.77573318, 0.78148361, 0.78895917, 0.79344074, 0.79286536])"
      ]
     },
     "execution_count": 32,
     "metadata": {},
     "output_type": "execute_result"
    }
   ],
   "source": [
    "rfc_scores"
   ]
  },
  {
   "cell_type": "markdown",
   "metadata": {},
   "source": [
    "## Gradient Boosting Classifier"
   ]
  },
  {
   "cell_type": "code",
   "execution_count": 33,
   "metadata": {},
   "outputs": [],
   "source": [
    "from sklearn.ensemble import GradientBoostingClassifier\n",
    "\n",
    "gbc = GradientBoostingClassifier(learning_rate=0.2, random_state=17)\n",
    "gbc_scores = cross_val_score(gbc, X, y, cv=5, scoring='accuracy')"
   ]
  },
  {
   "cell_type": "code",
   "execution_count": 34,
   "metadata": {},
   "outputs": [
    {
     "data": {
      "text/plain": [
       "array([0.786659  , 0.7906843 , 0.79988499, 0.82048331, 0.80034522])"
      ]
     },
     "execution_count": 34,
     "metadata": {},
     "output_type": "execute_result"
    }
   ],
   "source": [
    "gbc_scores"
   ]
  },
  {
   "cell_type": "markdown",
   "metadata": {},
   "source": [
    "## Support Vector Machines"
   ]
  },
  {
   "cell_type": "code",
   "execution_count": 35,
   "metadata": {},
   "outputs": [],
   "source": [
    "from sklearn import svm\n",
    "\n",
    "svc = svm.SVC()\n",
    "svc_scores = cross_val_score(svc, X, y, cv=5, scoring='accuracy')"
   ]
  },
  {
   "cell_type": "code",
   "execution_count": 36,
   "metadata": {},
   "outputs": [
    {
     "data": {
      "text/plain": [
       "array([0.73145486, 0.75215641, 0.74008051, 0.7456847 , 0.74741082])"
      ]
     },
     "execution_count": 36,
     "metadata": {},
     "output_type": "execute_result"
    }
   ],
   "source": [
    "svc_scores"
   ]
  },
  {
   "cell_type": "markdown",
   "metadata": {},
   "source": [
    "## Naive bayes"
   ]
  },
  {
   "cell_type": "code",
   "execution_count": 37,
   "metadata": {},
   "outputs": [],
   "source": [
    "from sklearn.naive_bayes import GaussianNB\n",
    "\n",
    "gnb = GaussianNB()\n",
    "gnb_scores = cross_val_score(gnb, X, y, cv=5, scoring='accuracy')"
   ]
  },
  {
   "cell_type": "code",
   "execution_count": 38,
   "metadata": {
    "scrolled": true
   },
   "outputs": [
    {
     "data": {
      "text/plain": [
       "array([0.72570443, 0.61644623, 0.76595745, 0.77963176, 0.73130035])"
      ]
     },
     "execution_count": 38,
     "metadata": {},
     "output_type": "execute_result"
    }
   ],
   "source": [
    "gnb_scores"
   ]
  },
  {
   "cell_type": "markdown",
   "metadata": {},
   "source": [
    "### To sum up"
   ]
  },
  {
   "cell_type": "code",
   "execution_count": 39,
   "metadata": {},
   "outputs": [
    {
     "name": "stdout",
     "output_type": "stream",
     "text": [
      "Logistic regression score:  0.7649849026363974\n",
      "Random tree score:  0.7326573543648686\n",
      "Random forest score:  0.7864964124323134\n",
      "Gradient boosting score:  0.7996113661343933\n",
      "Support vector score:  0.743357457793224\n",
      "Naive Bayes score:  0.7238080427953845\n"
     ]
    }
   ],
   "source": [
    "print(\"Logistic regression score: \", lr_scores.mean())\n",
    "print(\"Random tree score: \", rtc_scores.mean())\n",
    "print(\"Random forest score: \", rfc_scores.mean())\n",
    "print(\"Gradient boosting score: \", gbc_scores.mean())\n",
    "print(\"Support vector score: \", svc_scores.mean())\n",
    "print(\"Naive Bayes score: \", gnb_scores.mean())"
   ]
  },
  {
   "cell_type": "markdown",
   "metadata": {},
   "source": [
    "### Train on full data and get results to be uploaded on Kaggle"
   ]
  },
  {
   "cell_type": "markdown",
   "metadata": {},
   "source": [
    "### Firstly, test_data has to be transformed to fit train_data"
   ]
  },
  {
   "cell_type": "code",
   "execution_count": 40,
   "metadata": {},
   "outputs": [
    {
     "data": {
      "text/plain": [
       "(PassengerId       0\n",
       " HomePlanet       87\n",
       " CryoSleep        93\n",
       " Cabin           100\n",
       " Destination      92\n",
       " Age              91\n",
       " VIP              93\n",
       " RoomService      82\n",
       " FoodCourt       106\n",
       " ShoppingMall     98\n",
       " Spa             101\n",
       " VRDeck           80\n",
       " Name             94\n",
       " dtype: int64,\n",
       " (4277, 13))"
      ]
     },
     "execution_count": 40,
     "metadata": {},
     "output_type": "execute_result"
    }
   ],
   "source": [
    "data_test.isnull().sum(), data_test.shape"
   ]
  },
  {
   "cell_type": "code",
   "execution_count": 41,
   "metadata": {},
   "outputs": [],
   "source": [
    "def prepareCategoricalFeatures(df: pd.DataFrame) -> pd.DataFrame:\n",
    "    d = df.copy()\n",
    "    d.drop(columns=['Name'], inplace=True)\n",
    "    d['CabinDeck'] = d['Cabin'].apply(lambda x: (x or 'Unknown/Unknown/Unknown').split('/')[0] if type(x) is str else 'Unknown')\n",
    "    d['CabinSide'] = d['Cabin'].apply(lambda x: (x or 'Unknown/Unknown/Unknown').split('/')[2] if type(x) is str else 'Unknown')\n",
    "\n",
    "    # after the split Cabin is no more useful\n",
    "    d.drop(columns='Cabin', inplace=True)\n",
    "\n",
    "    d[['HomePlanet', 'CryoSleep', 'Destination', 'CabinDeck']] = d[['HomePlanet', 'CryoSleep', 'Destination', 'CabinDeck']].fillna('Unknown')\n",
    "    d['VIP'].fillna(False, inplace=True)\n",
    "    \n",
    "    return d"
   ]
  },
  {
   "cell_type": "code",
   "execution_count": 42,
   "metadata": {},
   "outputs": [],
   "source": [
    "data_test_s = data_test.copy()\n",
    "data_test_s = prepareCategoricalFeatures(data_test_s)\n",
    "          \n",
    "mean = data_test_s['Age'].mean()\n",
    "data_test_s['Age'].fillna(mean, inplace=True)\n",
    "data_test_s['Age'].replace(0, mean, inplace=True)\n",
    "      \n",
    "num_cols = data_test_s.select_dtypes(include=[np.number]).columns\n",
    "\n",
    "data_test_s[num_cols] = data_test_s[num_cols].fillna(data_test_s[num_cols].median())\n",
    "\n",
    "# here we have to use existing scaler which is trained on data_train\n",
    "data_test_s[num_cols] = scaler.transform(data_test_s[num_cols])\n",
    "\n",
    "ids = data_test_s['PassengerId']\n",
    "data_test_s.drop(columns=['PassengerId'], inplace=True)\n",
    "data_test_s_dum = pd.get_dummies(data_test_s)"
   ]
  },
  {
   "cell_type": "code",
   "execution_count": 43,
   "metadata": {},
   "outputs": [],
   "source": [
    "classifiers = [\n",
    "    {'name': 'log_reg', 'classifier': LogisticRegression(max_iter=200)},\n",
    "    {'name': 'decision_tree', 'classifier': DecisionTreeClassifier(random_state=17)},\n",
    "    {'name': 'random_forest', 'classifier': RandomForestClassifier(random_state=17)},\n",
    "    {'name': 'gradient_boost', 'classifier': GradientBoostingClassifier(learning_rate=0.2, random_state=17)},\n",
    "    {'name': 'support_vector', 'classifier': svm.SVC()},\n",
    "    {'name': 'naive_bayes', 'classifier': GaussianNB()},\n",
    "]"
   ]
  },
  {
   "cell_type": "code",
   "execution_count": 44,
   "metadata": {},
   "outputs": [],
   "source": [
    "run = False"
   ]
  },
  {
   "cell_type": "code",
   "execution_count": 45,
   "metadata": {},
   "outputs": [],
   "source": [
    "if run == True:\n",
    "    for c in classifiers:\n",
    "        c['classifier'].fit(X, y)\n",
    "        preds = c['classifier'].predict(data_test_s_dum)\n",
    "        df = pd.DataFrame({'PassengerId': ids, 'Transported': preds})\n",
    "        df.to_csv(f\"preds/{c['name']}_submission.csv\", index=False)"
   ]
  },
  {
   "cell_type": "markdown",
   "metadata": {},
   "source": [
    "## Accuracy of models on Kaggle with such submissions:\n",
    "- decision tree: 0.74  \n",
    "- support vector classifier: 0.75\n",
    "- naive Bayes classifier: 0.75 \n",
    "- logistic regression: 0.77\n",
    "- random forest: 0.79\n",
    "- gradient boosting: 0.80"
   ]
  },
  {
   "cell_type": "markdown",
   "metadata": {},
   "source": [
    "## Because numerical features have huge range and median is EVERYWHERE 0 (apart from age) i will try to make discrete values from this"
   ]
  },
  {
   "cell_type": "code",
   "execution_count": 46,
   "metadata": {},
   "outputs": [],
   "source": [
    "data_train_2 = train.copy()\n",
    "data_test_2 = test.copy()\n",
    "\n",
    "# refresh numerical and categorical features\n",
    "numerical_features = data_train_2.copy().select_dtypes(include=[np.number])\n",
    "categorical_features = data_train_2.copy().select_dtypes(include=[object, bool]) "
   ]
  },
  {
   "cell_type": "code",
   "execution_count": 47,
   "metadata": {},
   "outputs": [
    {
     "data": {
      "text/html": [
       "<div>\n",
       "<style scoped>\n",
       "    .dataframe tbody tr th:only-of-type {\n",
       "        vertical-align: middle;\n",
       "    }\n",
       "\n",
       "    .dataframe tbody tr th {\n",
       "        vertical-align: top;\n",
       "    }\n",
       "\n",
       "    .dataframe thead th {\n",
       "        text-align: right;\n",
       "    }\n",
       "</style>\n",
       "<table border=\"1\" class=\"dataframe\">\n",
       "  <thead>\n",
       "    <tr style=\"text-align: right;\">\n",
       "      <th></th>\n",
       "      <th>RoomService</th>\n",
       "      <th>FoodCourt</th>\n",
       "      <th>ShoppingMall</th>\n",
       "      <th>Spa</th>\n",
       "      <th>VRDeck</th>\n",
       "    </tr>\n",
       "  </thead>\n",
       "  <tbody>\n",
       "    <tr>\n",
       "      <th>0.50</th>\n",
       "      <td>0.0</td>\n",
       "      <td>0.0</td>\n",
       "      <td>0.0</td>\n",
       "      <td>0.0</td>\n",
       "      <td>0.0</td>\n",
       "    </tr>\n",
       "    <tr>\n",
       "      <th>0.70</th>\n",
       "      <td>8.0</td>\n",
       "      <td>13.0</td>\n",
       "      <td>5.0</td>\n",
       "      <td>15.0</td>\n",
       "      <td>9.0</td>\n",
       "    </tr>\n",
       "    <tr>\n",
       "      <th>0.80</th>\n",
       "      <td>176.0</td>\n",
       "      <td>258.0</td>\n",
       "      <td>97.0</td>\n",
       "      <td>179.0</td>\n",
       "      <td>156.0</td>\n",
       "    </tr>\n",
       "    <tr>\n",
       "      <th>0.90</th>\n",
       "      <td>753.0</td>\n",
       "      <td>1026.0</td>\n",
       "      <td>620.0</td>\n",
       "      <td>732.0</td>\n",
       "      <td>733.0</td>\n",
       "    </tr>\n",
       "    <tr>\n",
       "      <th>0.95</th>\n",
       "      <td>1272.0</td>\n",
       "      <td>2762.0</td>\n",
       "      <td>928.0</td>\n",
       "      <td>1608.0</td>\n",
       "      <td>1539.0</td>\n",
       "    </tr>\n",
       "    <tr>\n",
       "      <th>0.99</th>\n",
       "      <td>3097.0</td>\n",
       "      <td>8037.0</td>\n",
       "      <td>2332.0</td>\n",
       "      <td>5391.0</td>\n",
       "      <td>5648.0</td>\n",
       "    </tr>\n",
       "  </tbody>\n",
       "</table>\n",
       "</div>"
      ],
      "text/plain": [
       "      RoomService  FoodCourt  ShoppingMall     Spa  VRDeck\n",
       "0.50          0.0        0.0           0.0     0.0     0.0\n",
       "0.70          8.0       13.0           5.0    15.0     9.0\n",
       "0.80        176.0      258.0          97.0   179.0   156.0\n",
       "0.90        753.0     1026.0         620.0   732.0   733.0\n",
       "0.95       1272.0     2762.0         928.0  1608.0  1539.0\n",
       "0.99       3097.0     8037.0        2332.0  5391.0  5648.0"
      ]
     },
     "execution_count": 47,
     "metadata": {},
     "output_type": "execute_result"
    }
   ],
   "source": [
    "numerical_features.drop(columns=['Age']).quantile([.5, .7, .8, .9, .95, .99], interpolation=\"nearest\")"
   ]
  },
  {
   "cell_type": "code",
   "execution_count": 48,
   "metadata": {},
   "outputs": [],
   "source": [
    "import math\n",
    "\n",
    "for col in numerical_features.drop(columns=['Age']).columns:\n",
    "    data_train_2[f\"Used{col}\"] = data_train_2[col].apply(lambda x: 0 if math.isnan(x) or x == 0 else 1)\n",
    "    data_test_2[f\"Used{col}\"] = data_test_2[col].apply(lambda x: 0 if math.isnan(x) or x == 0 else 1)\n",
    "\n",
    "data_train_2.drop(columns=numerical_features.drop(columns=['Age']).columns, inplace=True)\n",
    "data_test_2.drop(columns=numerical_features.drop(columns=['Age']).columns, inplace=True)\n",
    "\n",
    "mean = data_train_2['Age'].mean()\n",
    "data_train_2['Age'].fillna(mean, inplace=True)\n",
    "data_train_2['Age'].replace(0, mean, inplace=True)\n"
   ]
  },
  {
   "cell_type": "code",
   "execution_count": 49,
   "metadata": {},
   "outputs": [],
   "source": [
    "data_train_2 = prepareCategoricalFeatures(data_train_2)\n",
    "data_test_2 = prepareCategoricalFeatures(data_test_2)\n",
    "\n",
    "X_2 = data_train_2.drop(columns=['Transported'])\n",
    "y_2 = data_train_2['Transported']\n",
    "\n",
    "X_2.drop(columns=['PassengerId'], inplace=True)\n",
    "X_2 = pd.get_dummies(X_2)"
   ]
  },
  {
   "cell_type": "code",
   "execution_count": 50,
   "metadata": {},
   "outputs": [],
   "source": [
    "from sklearn.linear_model import LogisticRegression\n",
    "from sklearn.tree import DecisionTreeClassifier\n",
    "from sklearn.ensemble import RandomForestClassifier\n",
    "from sklearn.ensemble import GradientBoostingClassifier\n",
    "from sklearn import svm\n",
    "from sklearn.naive_bayes import GaussianNB\n",
    "\n",
    "classifiers2 = [\n",
    "    {'name': 'log_reg', 'classifier': LogisticRegression(max_iter=400)},\n",
    "    {'name': 'decision_tree', 'classifier': DecisionTreeClassifier(random_state=17)},\n",
    "    {'name': 'random_forest', 'classifier': RandomForestClassifier(random_state=17)},\n",
    "    {'name': 'gradient_boost', 'classifier': GradientBoostingClassifier(learning_rate=0.2, random_state=17)},\n",
    "    {'name': 'support_vector', 'classifier': svm.SVC()},\n",
    "    {'name': 'naive_bayes', 'classifier': GaussianNB()},\n",
    "]"
   ]
  },
  {
   "cell_type": "code",
   "execution_count": 51,
   "metadata": {
    "scrolled": true
   },
   "outputs": [
    {
     "name": "stdout",
     "output_type": "stream",
     "text": [
      "log_reg: [0.72225417 0.73950546 0.74698102 0.74395857 0.73762946], where mean = 0.7380657375540218\n",
      "decision_tree: [0.67452559 0.68142611 0.67165037 0.66340621 0.68009206], where mean = 0.6742200688066565\n",
      "random_forest: [0.6906268  0.69925244 0.69005175 0.69965478 0.69620253], where mean = 0.6951576604148648\n",
      "gradient_boost: [0.73893042 0.74468085 0.74698102 0.7589183  0.75086306], where mean = 0.7480747304609412\n",
      "support_vector: [0.72110408 0.73260495 0.72052904 0.74741082 0.74626007], where mean = 0.7335817907862077\n",
      "naive_bayes: [0.70960322 0.67797585 0.71190339 0.72669735 0.73302647], where mean = 0.7118412563335805\n"
     ]
    }
   ],
   "source": [
    "from sklearn.model_selection import cross_val_score\n",
    "\n",
    "for c in classifiers2:\n",
    "    scores = cross_val_score(c['classifier'], X_2, y_2, cv=5, scoring='accuracy')\n",
    "    print(f\"{c['name']}: {scores}, where mean = {scores.mean()}\")"
   ]
  },
  {
   "cell_type": "markdown",
   "metadata": {},
   "source": [
    "### The results above are a little bit worse than the results with normalised numerical features "
   ]
  }
 ],
 "metadata": {
  "kernelspec": {
   "display_name": "Python 3",
   "language": "python",
   "name": "python3"
  },
  "language_info": {
   "codemirror_mode": {
    "name": "ipython",
    "version": 3
   },
   "file_extension": ".py",
   "mimetype": "text/x-python",
   "name": "python",
   "nbconvert_exporter": "python",
   "pygments_lexer": "ipython3",
   "version": "3.8.5"
  }
 },
 "nbformat": 4,
 "nbformat_minor": 4
}
